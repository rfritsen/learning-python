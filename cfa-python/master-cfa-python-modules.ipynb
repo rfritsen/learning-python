{
 "cells": [
  {
   "cell_type": "markdown",
   "id": "c6d60b5b",
   "metadata": {},
   "source": [
    "## Python CFA practice problems\n",
    "### This noteboook aggregates prompts + code from the CFA Practical Python Module."
   ]
  },
  {
   "cell_type": "markdown",
   "id": "65be22f4",
   "metadata": {},
   "source": [
    "#### Print statements and printing variables <a name=\"print\"></a>\n",
    "- **Write a Python code that performs the following tasks:**  \n",
    "    - **1. Prints out the following message to the screen:** \n",
    "            \"Procter and Gamble (P&G), which reports using US GAAP, sold a piece of land for $500000\" \n",
    "    - **2. Generalize your code to the company name, reporting standard, and dollar amount** \n",
    "    - **3. Test your code and perform a sanity check** "
   ]
  },
  {
   "cell_type": "code",
   "execution_count": 3,
   "id": "ceeccd00-33b7-4daf-968d-144824480f64",
   "metadata": {},
   "outputs": [
    {
     "name": "stdout",
     "output_type": "stream",
     "text": [
      "Procter and Gamble (P&G), which reports using US GAAP, sold a piece of land for $500000\n"
     ]
    }
   ],
   "source": [
    "# Using Print operators\n",
    "# Variables\n",
    "company = \"Procter and Gamble (P&G)\"\n",
    "report_standard = \"US GAAP\"\n",
    "amount = 500000\n",
    "\n",
    "#Print statement\n",
    "print(\"{}, which reports using {}, sold a piece of land for ${}\".format(company, report_standard, amount))"
   ]
  },
  {
   "cell_type": "markdown",
   "id": "9a4de578",
   "metadata": {},
   "source": [
    "#### Variables, assignment, math operators, and data types\n",
    "- **Assume that you have \\\\$5000 in your brokerage account and you decided to invest the entire amount in Procter & Gamble (P&G) stock which is trading at \\\\$142.5 per share. Complete the following tasks:** \n",
    "    - **1. Write a Python code that defines two variables for the account balance and P&G stock price. Feel free to select any valid variable names**\n",
    "    - **2. Confirm variables datatypes**\n",
    "    - **3. Calculate number of shares that you can buy with the available balance in your account**"
   ]
  },
  {
   "cell_type": "code",
   "execution_count": 5,
   "id": "f60bf285-fc47-4d47-9019-aa8bed9caf94",
   "metadata": {},
   "outputs": [
    {
     "name": "stdout",
     "output_type": "stream",
     "text": [
      "Account balance is an integer.  True\n",
      "P&G Price is an integer.  False\n",
      "I can buy 35 shares today\n"
     ]
    }
   ],
   "source": [
    "# Assigning variables and checking data types\n",
    "# 1 - Define variables\n",
    "ab = 5000\n",
    "pgprice = 142.5\n",
    "\n",
    "# 2 - Confirm datatypes\n",
    "print(\"Account balance is an integer. \" , type(ab) == int)\n",
    "print(\"P&G Price is an integer. \", type(pgprice) == int)\n",
    "\n",
    "# 3 - Print number of possible shares\n",
    "shares = int(ab // pgprice)\n",
    "print (\"I can buy\", shares, \"shares today\")"
   ]
  },
  {
   "cell_type": "markdown",
   "id": "b6a651aa",
   "metadata": {},
   "source": [
    "#### User inputs\n",
    "- **Assume that you work as a financial analyst and you have been tasked to develop a Python application that analyzes securities using the Capital Asset Pricing Model (CAPM).** \n",
    "    - **1. Review the concept of CAPM and write down the formula**\n",
    "    - **2. Write a Python code that will recieve beta for a given stock, risk-free rate and expected broad market return from the user and prints out the expected return on the stock. Round your answer to two decimal points.** \n",
    "    - **3. Perform a sanity check by comparing your answer to online CAPM calculators. This calculator could be used: https://goodcalculators.com/capm-calculator/**"
   ]
  },
  {
   "cell_type": "code",
   "execution_count": null,
   "id": "b1915e6f-7ee7-496e-81cf-48d0d450e7be",
   "metadata": {},
   "outputs": [],
   "source": [
    "# Getting user input\n",
    "# Inputs\n",
    "stock = str(input(\"Please enter the name of the stock: \"))\n",
    "beta = float(input(\"Enter the stock beta: \"))\n",
    "rfrr = float(input(\"Enter the risk-free rate of return in %: \"))\n",
    "bmrr = float(input(\"Enter the expected broad market rate of return in % (Ex: S&P500): \"))\n",
    "\n",
    "#CAPM calculation\n",
    "capm = rfrr + beta*(bmrr-rfrr)\n",
    "\n",
    "# Outputs\n",
    "print(\"Using the CAPM formula, the expected return on {} stock = {}%\".format(stock, round(capm, 2)))\n"
   ]
  },
  {
   "cell_type": "markdown",
   "id": "a208febc",
   "metadata": {},
   "source": [
    "#### Lists\n",
    "- **Assume that you work as a financial analyst and you decided to list 9 dividend-paying companies in the U.S. in a Python list named \"dividend_companies\" as shown below:** \n",
    "\n",
    "```\n",
    "        dividend_companies = ['Pioneer Natural Resources Co. (ticker: PXD)', 'Lumen Technologies Inc. (LUMN)', 'Altria Group Inc. (MO)', 'Vornado Realty Trust (VNO)', 'Devon Energy Corp. (DVN)', 'AT&T Inc. (T)', 'Simon Property Group Inc. (SPG)', 'Verizon Communications Inc. (VZ)', 'Kinder Morgan Inc. (KMI)']\n",
    "```\n",
    "\n",
    "   - **1. Print the first, second and fourth elements individually**\n",
    "   - **2. Print the last element using 3 different methods (external research is required)**\n",
    "   - **3. Print all elements in the list, first 3 elements, and last three elements**"
   ]
  },
  {
   "cell_type": "code",
   "execution_count": 15,
   "id": "c8347973",
   "metadata": {},
   "outputs": [
    {
     "name": "stdout",
     "output_type": "stream",
     "text": [
      "First, second, and fourth companies: Pioneer Natural Resources Co. (ticker: PXD) Lumen Technologies Inc. (LUMN) Vornado Realty Trust (VNO)\n",
      "Last element via negative indexing: Kinder Morgan Inc. (KMI)\n",
      "Last element via len-1: Kinder Morgan Inc. (KMI)\n",
      "Last element via reverse(): Kinder Morgan Inc. (KMI)\n",
      "['Pioneer Natural Resources Co. (ticker: PXD)', 'Lumen Technologies Inc. (LUMN)', 'Altria Group Inc. (MO)', 'Vornado Realty Trust (VNO)', 'Devon Energy Corp. (DVN)', 'AT&T Inc. (T)', 'Simon Property Group Inc. (SPG)', 'Verizon Communications Inc. (VZ)', 'Kinder Morgan Inc. (KMI)']\n",
      "['Pioneer Natural Resources Co. (ticker: PXD)', 'Lumen Technologies Inc. (LUMN)', 'Altria Group Inc. (MO)']\n",
      "['Kinder Morgan Inc. (KMI)', 'Verizon Communications Inc. (VZ)', 'Simon Property Group Inc. (SPG)']\n"
     ]
    }
   ],
   "source": [
    "# List\n",
    "dividend_companies = ['Pioneer Natural Resources Co. (ticker: PXD)', 'Lumen Technologies Inc. (LUMN)', 'Altria Group Inc. (MO)', 'Vornado Realty Trust (VNO)', 'Devon Energy Corp. (DVN)', 'AT&T Inc. (T)', 'Simon Property Group Inc. (SPG)', 'Verizon Communications Inc. (VZ)', 'Kinder Morgan Inc. (KMI)']\n",
    "\n",
    "# Print first, second, fourth element\n",
    "print(\"First, second, and fourth companies:\", dividend_companies[0], dividend_companies[1], dividend_companies[3])\n",
    "\n",
    "# Print last element three different ways\n",
    "print(\"Last element via negative indexing:\", dividend_companies[-1])\n",
    "print(\"Last element via len-1:\", dividend_companies[len(dividend_companies)-1])\n",
    "rev = list(reversed(dividend_companies))\n",
    "print(\"Last element via reverse():\", rev[0])\n",
    "\n",
    "# Print all, \n",
    "print(dividend_companies)\n",
    "print(dividend_companies[:3])\n",
    "print(rev[:3])\n"
   ]
  },
  {
   "cell_type": "markdown",
   "id": "15eec42f",
   "metadata": {},
   "source": [
    "#### Python Dictionaries <a name=\"dict\"></a>\n",
    "- **Assume that you work as a financial analyst at a pension fund. You decided to list the names of your 3 top favourite technology stocks along with their prices in a Python dictionary.**\n",
    "    - **1. Define the Python dictionary, feel free to choose any technology stocks. You can use Yahoo finance to obtain the daily price of these securities** \n",
    "    - **2. Calculate the average stock price listed in this dictionary**\n",
    "    - **3. Now assume that you want to add 2 more stocks to the previously created dictionary, update the dictionary and calculate the new average using two different methods (External research is required)**\n"
   ]
  },
  {
   "cell_type": "code",
   "execution_count": 39,
   "id": "59b1e542",
   "metadata": {},
   "outputs": [
    {
     "name": "stdout",
     "output_type": "stream",
     "text": [
      "Dictionary of stocks: {'APPL': 10, 'MSFT': 20, 'NVDA': 100}\n",
      "Avg price: 43.33\n",
      "OG List {'APPL': 10, 'MSFT': 20, 'NVDA': 100, 'SNOW': 25, 'CRWD': 35}\n",
      "Avg price with security stocks: 38\n"
     ]
    }
   ],
   "source": [
    "#Import packages\n",
    "from statistics import mean\n",
    "# Define dictionary\n",
    "og_dict = {\"APPL\": 10, \"MSFT\": 20, \"NVDA\": 100}\n",
    "print(\"Dictionary of stocks:\", og_dict)\n",
    "\n",
    "# Avg stock price - Version 1\n",
    "klist = []\n",
    "for value in og_dict.values():\n",
    "    klist.append(value)\n",
    "print(\"Avg price:\", round(mean(klist), 2))\n",
    "\n",
    "# Add stocks to dict\n",
    "og_dict[\"SNOW\"] = 25\n",
    "og_dict[\"CRWD\"] = 35\n",
    "\n",
    "# Update klist with new stocks\n",
    "klist.clear()\n",
    "print(\"OG List\", og_dict)\n",
    "for value in og_dict.values():\n",
    "    klist.append(value)\n",
    "\n",
    "print(\"Avg price with security stocks:\", round(mean(klist), 2))\n",
    "\n"
   ]
  },
  {
   "cell_type": "markdown",
   "id": "1ff0775e",
   "metadata": {},
   "source": [
    "#### Dictionaries Experiment 1: Create a function to take average of keys when \n"
   ]
  },
  {
   "cell_type": "code",
   "execution_count": null,
   "id": "33b7f972",
   "metadata": {},
   "outputs": [],
   "source": []
  },
  {
   "cell_type": "markdown",
   "id": "0f115966",
   "metadata": {},
   "source": [
    "#### Python Strings\n",
    "- **Assume that you work at a bank and you have been tasked to develop a Python code that asks clients to provide their feedback regarding the bank service and break their input into individual words. Write a Python code that performs the following tasks:** \n",
    "    - **1. Prompt client to enter his/her feedback regarding the service and obtains their input** \n",
    "    - **2. Split the client input into words and print them to the screen**\n",
    "    - **3. Test your code using 3 different user inputs**\n",
    "    - **4. Expand your code to request the user to enter his/her email address. The code should prompt clients requesting his/her e-mail and then extracts the user first name only (Note that the e-mail format is as follows: firstname.lastname@gmail.com)**\n"
   ]
  },
  {
   "cell_type": "code",
   "execution_count": null,
   "id": "d8f3c2ee",
   "metadata": {},
   "outputs": [],
   "source": []
  }
 ],
 "metadata": {
  "kernelspec": {
   "display_name": "Python 3 (ipykernel)",
   "language": "python",
   "name": "python3"
  },
  "language_info": {
   "codemirror_mode": {
    "name": "ipython",
    "version": 3
   },
   "file_extension": ".py",
   "mimetype": "text/x-python",
   "name": "python",
   "nbconvert_exporter": "python",
   "pygments_lexer": "ipython3",
   "version": "3.11.7"
  }
 },
 "nbformat": 4,
 "nbformat_minor": 5
}
